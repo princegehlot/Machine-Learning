{
 "cells": [
  {
   "cell_type": "markdown",
   "metadata": {},
   "source": [
    "# INSTRUCTIONS\n",
    "\n",
    "Read the instructions metioned below carefully before attempting the assignment:\n",
    "\n",
    "    - This assignment has 12 questions and all the questions are mandatory.\n",
    "    - Read the desciption of the dataset mentioned below carefully.\n",
    "    - Each question has been commented and written in an independent cell.\n",
    "    - Write your code in the cell just below the question (Refer Ques-1 - It has been solved for you to understand)\n",
    "    - Try to submit the assignment within the deadline.\n",
    "    - Plagiarism will have a huge penality.\n",
    "    - After completing the assignment upload this notebook to your github and submit the assignment on Google Classroom.\n",
    "    \n",
    "    \n",
    "##### Download the Dataset file(.csv) from here:\n",
    "\n",
    "https://drive.google.com/file/d/146KzhkfeuzDigbOjaZ1nkTpAHzp7TATz/view?usp=sharing"
   ]
  },
  {
   "cell_type": "markdown",
   "metadata": {},
   "source": [
    "\n",
    "# COVID19 India dataset\n",
    "\n",
    "### Description\n",
    "\n",
    "Title of dataset: covid19india.csv\n",
    "\n",
    "Sources:\n",
    "\n",
    "    * A crowdsourced initiative - covid19india.org\n",
    "    * Date received - 19/07/2020 \n",
    "    \n",
    "Number of Instances/Rows\n",
    "\n",
    "    * Total Number of Rows = 381\n",
    "\n",
    "Number of Attributes/Fearures/Columns\n",
    "\n",
    "    * 2 Object, 39 Numerical attributes. \n",
    "\n",
    "Attribute Information/Fearures/Columns\n",
    "\n",
    "    * date: Object Type\n",
    "    * Status: Confirmed, Recovered, Deceased\n",
    "    * Below mentioned are remaining 38 columns representing States and UT of India\n",
    "    \n",
    "    State \n",
    "    Maharashtra, Tamil Nadu, Delhi, Gujarat, Karnataka, Uttar Pradesh, Telangana, Andhra Pradesh, West Bengal, Rajasthan, Haryana, Bihar, Madhya Pradesh, Assam, Odisha, Jammu and Kashmir, Punjab, Kerala, Chhattisgarh, Jharkhand, Uttarakhand, Goa, State Unassigned, Tripura, Manipur, Puducherry, Himachal Pradesh, Ladakh, Nagaland, Chandigarh, Dadra and Nagar Haveli and Daman and Diu, Arunachal Pradesh, Meghalaya, Mizoram, Andaman and Nicobar Islands, Sikkim, Lakshadweep                       \n",
    "    \n",
    "    State_code\n",
    "    MH, TN, DL, GJ, KA, UP, TG, AP, WB, RJ, HR, BR, MP, AS, OR, JK, PB, KL, CT, JH, UT, GA, UN, TR, MN, PY, HP, LA, NL, CH, DN, AR, ML, MZ, AN, SK, LD"
   ]
  },
  {
   "cell_type": "code",
   "execution_count": 12,
   "metadata": {},
   "outputs": [],
   "source": [
    "# Q1 - Import the required Library (Sample question and answer)\n",
    "\n",
    "import numpy as np\n",
    "import pandas as pd"
   ]
  },
  {
   "cell_type": "code",
   "execution_count": 13,
   "metadata": {},
   "outputs": [],
   "source": [
    "# Q2 - Read the csv file to the pandas dataframe\n",
    "\n",
    "data = pd.read_csv(\"covid19india.csv\")"
   ]
  },
  {
   "cell_type": "code",
   "execution_count": 14,
   "metadata": {},
   "outputs": [
    {
     "name": "stdout",
     "output_type": "stream",
     "text": [
      "        date     status  an  ap  ar  as  br  ch  ct  dd  ...  py  rj  sk  tg  \\\n",
      "0  14-Mar-20  Confirmed   0   1   0   0   0   0   0   0  ...   0   3   0   1   \n",
      "1  14-Mar-20  Recovered   0   0   0   0   0   0   0   0  ...   0   1   0   0   \n",
      "2  14-Mar-20   Deceased   0   0   0   0   0   0   0   0  ...   0   0   0   0   \n",
      "3  15-Mar-20  Confirmed   0   0   0   0   0   0   0   0  ...   0   1   0   2   \n",
      "4  15-Mar-20  Recovered   0   0   0   0   0   0   0   0  ...   0   2   0   1   \n",
      "\n",
      "   tn  tr  un  up  ut  wb  \n",
      "0   1   0   0  12   0   0  \n",
      "1   0   0   0   4   0   0  \n",
      "2   0   0   0   0   0   0  \n",
      "3   0   0   0   1   0   0  \n",
      "4   0   0   0   0   0   0  \n",
      "\n",
      "[5 rows x 40 columns]\n"
     ]
    }
   ],
   "source": [
    "# Q3 - Display the top 5 rows of the dataframe\n",
    "print(data.head(5))"
   ]
  },
  {
   "cell_type": "code",
   "execution_count": 15,
   "metadata": {},
   "outputs": [
    {
     "name": "stdout",
     "output_type": "stream",
     "text": [
      "          date     status  an    ap  ar    as    br  ch   ct  dd  ...  py  \\\n",
      "376  17-Jul-20  Recovered   0   905  22   551   896   4   61   0  ...  67   \n",
      "377  17-Jul-20   Deceased   0    42   0     1     6   0    3   0  ...   3   \n",
      "378  18-Jul-20  Confirmed   0  3963  41  1117  1667  31  243   0  ...  58   \n",
      "379  18-Jul-20  Recovered   0  1465  99  1060   774   5  146   0  ...  48   \n",
      "380  18-Jul-20   Deceased   0    52   0     2     4   1    0   0  ...   3   \n",
      "\n",
      "      rj  sk    tg    tn   tr   un    up   ut    wb  \n",
      "376  656   1  1410  3391   47    0   959   26   838  \n",
      "377    8   0     7    79    0    0    38    1    26  \n",
      "378  711  19  1284  4807  171 -368  1873  174  2198  \n",
      "379  518   2  1902  3049   51    0  1030   60  1286  \n",
      "380    7   0     6    88    2    0    24    1    27  \n",
      "\n",
      "[5 rows x 40 columns]\n"
     ]
    }
   ],
   "source": [
    "# Q4 - Display the bottom 5 rows of the dataframe\n",
    "\n",
    "print(data.tail(5))"
   ]
  },
  {
   "cell_type": "code",
   "execution_count": 16,
   "metadata": {},
   "outputs": [
    {
     "name": "stdout",
     "output_type": "stream",
     "text": [
      "Rows: 381 \n",
      "Columns: 40\n"
     ]
    }
   ],
   "source": [
    "# Q5 - How many columns and rows are there in the dataframe?\n",
    "\n",
    "print(\"Rows:\",data.shape[0],\"\\nColumns:\",data.shape[1])"
   ]
  },
  {
   "cell_type": "code",
   "execution_count": 17,
   "metadata": {},
   "outputs": [
    {
     "name": "stdout",
     "output_type": "stream",
     "text": [
      "<class 'pandas.core.frame.DataFrame'>\n",
      "RangeIndex: 381 entries, 0 to 380\n",
      "Data columns (total 40 columns):\n",
      "date      381 non-null object\n",
      "status    381 non-null object\n",
      "an        381 non-null int64\n",
      "ap        381 non-null int64\n",
      "ar        381 non-null int64\n",
      "as        381 non-null int64\n",
      "br        381 non-null int64\n",
      "ch        381 non-null int64\n",
      "ct        381 non-null int64\n",
      "dd        381 non-null int64\n",
      "dl        381 non-null int64\n",
      "dn        381 non-null int64\n",
      "ga        381 non-null int64\n",
      "gj        381 non-null int64\n",
      "hp        381 non-null int64\n",
      "hr        381 non-null int64\n",
      "jh        381 non-null int64\n",
      "jk        381 non-null int64\n",
      "ka        381 non-null int64\n",
      "kl        381 non-null int64\n",
      "la        381 non-null int64\n",
      "ld        381 non-null int64\n",
      "mh        381 non-null int64\n",
      "ml        381 non-null int64\n",
      "mn        381 non-null int64\n",
      "mp        381 non-null int64\n",
      "mz        381 non-null int64\n",
      "nl        381 non-null int64\n",
      "or        381 non-null int64\n",
      "pb        381 non-null int64\n",
      "py        381 non-null int64\n",
      "rj        381 non-null int64\n",
      "sk        381 non-null int64\n",
      "tg        381 non-null int64\n",
      "tn        381 non-null int64\n",
      "tr        381 non-null int64\n",
      "un        381 non-null int64\n",
      "up        381 non-null int64\n",
      "ut        381 non-null int64\n",
      "wb        381 non-null int64\n",
      "dtypes: int64(38), object(2)\n",
      "memory usage: 119.1+ KB\n",
      "None\n"
     ]
    }
   ],
   "source": [
    "# Q6 - Display a breif overview of all the columns data type and missing values?\n",
    "\n",
    "print(data.info())"
   ]
  },
  {
   "cell_type": "code",
   "execution_count": 18,
   "metadata": {},
   "outputs": [
    {
     "name": "stdout",
     "output_type": "stream",
     "text": [
      "               an           ap          ar           as           br  \\\n",
      "count  381.000000   381.000000  381.000000   381.000000   381.000000   \n",
      "mean     0.821522   175.742782    2.433071   100.007874   107.388451   \n",
      "std      2.422408   436.279518    9.113256   219.505910   235.197288   \n",
      "min      0.000000     0.000000    0.000000    -1.000000     0.000000   \n",
      "25%      0.000000     1.000000    0.000000     0.000000     0.000000   \n",
      "50%      0.000000    25.000000    0.000000     0.000000     5.000000   \n",
      "75%      0.000000    97.000000    0.000000    79.000000   146.000000   \n",
      "max     20.000000  3963.000000   99.000000  1218.000000  1742.000000   \n",
      "\n",
      "              ch          ct     dd           dl          dn  ...          py  \\\n",
      "count  381.00000  381.000000  381.0   381.000000  381.000000  ...  381.000000   \n",
      "mean     3.11811   23.433071    0.0   594.364829    2.868766  ...    7.826772   \n",
      "std      7.27101   44.647613    0.0  1027.573886    7.553918  ...   18.879296   \n",
      "min      0.00000    0.000000    0.0     0.000000    0.000000  ...    0.000000   \n",
      "25%      0.00000    0.000000    0.0     4.000000    0.000000  ...    0.000000   \n",
      "50%      0.00000    0.000000    0.0    67.000000    0.000000  ...    0.000000   \n",
      "75%      4.00000   28.000000    0.0   504.000000    0.000000  ...    4.000000   \n",
      "max     79.00000  249.000000    0.0  7725.000000   50.000000  ...  147.000000   \n",
      "\n",
      "               rj          sk           tg           tn          tr  \\\n",
      "count  381.000000  381.000000   381.000000   381.000000  381.000000   \n",
      "mean   131.750656    0.989501   196.314961   740.086614   11.569554   \n",
      "std    169.953688    4.626570   443.763249  1263.481723   26.517988   \n",
      "min      0.000000   -1.000000     0.000000     0.000000   -2.000000   \n",
      "25%      4.000000    0.000000     2.000000     3.000000    0.000000   \n",
      "50%     42.000000    0.000000    10.000000    63.000000    0.000000   \n",
      "75%    236.000000    0.000000    72.000000   817.000000    8.000000   \n",
      "max    866.000000   50.000000  2078.000000  5106.000000  171.000000   \n",
      "\n",
      "                un           up          ut           wb  \n",
      "count   381.000000   381.000000  381.000000   381.000000  \n",
      "mean      0.427822   201.595801   19.446194   170.141732  \n",
      "std     204.755665   337.816167   36.746792   314.410201  \n",
      "min   -1295.000000     0.000000    0.000000   -19.000000  \n",
      "25%       0.000000     4.000000    0.000000     3.000000  \n",
      "50%       0.000000    30.000000    1.000000    18.000000  \n",
      "75%       0.000000   260.000000   25.000000   188.000000  \n",
      "max    1043.000000  2058.000000  216.000000  2198.000000  \n",
      "\n",
      "[8 rows x 38 columns]\n"
     ]
    }
   ],
   "source": [
    "# Q7 - Display the descriptive statistical analysis on numerical columns of the dataframe?\n",
    "\n",
    "print(data.describe())"
   ]
  },
  {
   "cell_type": "code",
   "execution_count": 19,
   "metadata": {},
   "outputs": [
    {
     "name": "stdout",
     "output_type": "stream",
     "text": [
      "          date     status   rj\n",
      "327  01-Jul-20  Confirmed  304\n"
     ]
    }
   ],
   "source": [
    "# Q8 - What were the number of confirmed cases in Rajasthan on 1st July 2020?\n",
    "\n",
    "print(data.loc[(data['date'] == '01-Jul-20') & (data['status'] == 'Confirmed'), ['date','status','rj']])"
   ]
  },
  {
   "cell_type": "code",
   "execution_count": 20,
   "metadata": {},
   "outputs": [
    {
     "name": "stdout",
     "output_type": "stream",
     "text": [
      "[543]\n"
     ]
    }
   ],
   "source": [
    "# Q9 - What is the number of Deceased cases on 18th July 2020?\n",
    "\n",
    "\n",
    "print(data.loc[(data['date'] == '18-Jul-20') & (data['status'] == 'Deceased')].sum(axis=1).values)"
   ]
  },
  {
   "cell_type": "code",
   "execution_count": 21,
   "metadata": {},
   "outputs": [
    {
     "name": "stdout",
     "output_type": "stream",
     "text": [
      "          date     status  total\n",
      "0    14-Mar-20  Confirmed     81\n",
      "1    14-Mar-20  Recovered      9\n",
      "2    14-Mar-20   Deceased      2\n",
      "3    15-Mar-20  Confirmed     27\n",
      "4    15-Mar-20  Recovered      4\n",
      "5    15-Mar-20   Deceased      0\n",
      "6    16-Mar-20  Confirmed     15\n",
      "7    16-Mar-20  Recovered      1\n",
      "8    16-Mar-20   Deceased      0\n",
      "9    17-Mar-20  Confirmed     11\n",
      "10   17-Mar-20  Recovered      1\n",
      "11   17-Mar-20   Deceased      1\n",
      "12   18-Mar-20  Confirmed     37\n",
      "13   18-Mar-20  Recovered      0\n",
      "14   18-Mar-20   Deceased      0\n",
      "15   19-Mar-20  Confirmed     27\n",
      "16   19-Mar-20  Recovered      5\n",
      "17   19-Mar-20   Deceased      1\n",
      "18   20-Mar-20  Confirmed     58\n",
      "19   20-Mar-20  Recovered      3\n",
      "20   20-Mar-20   Deceased      0\n",
      "21   21-Mar-20  Confirmed     78\n",
      "22   21-Mar-20  Recovered      0\n",
      "23   21-Mar-20   Deceased      0\n",
      "24   22-Mar-20  Confirmed     67\n",
      "25   22-Mar-20  Recovered      0\n",
      "26   22-Mar-20   Deceased      3\n",
      "27   23-Mar-20  Confirmed    102\n",
      "28   23-Mar-20  Recovered     12\n",
      "29   23-Mar-20   Deceased      2\n",
      "..         ...        ...    ...\n",
      "351  09-Jul-20  Confirmed  25790\n",
      "352  09-Jul-20  Recovered  19408\n",
      "353  09-Jul-20   Deceased    479\n",
      "354  10-Jul-20  Confirmed  27762\n",
      "355  10-Jul-20  Recovered  20289\n",
      "356  10-Jul-20   Deceased    520\n",
      "357  11-Jul-20  Confirmed  27757\n",
      "358  11-Jul-20  Recovered  19981\n",
      "359  11-Jul-20   Deceased    543\n",
      "360  12-Jul-20  Confirmed  29106\n",
      "361  12-Jul-20  Recovered  18198\n",
      "362  12-Jul-20   Deceased    500\n",
      "363  13-Jul-20  Confirmed  28178\n",
      "364  13-Jul-20  Recovered  17683\n",
      "365  13-Jul-20   Deceased    541\n",
      "366  14-Jul-20  Confirmed  29917\n",
      "367  14-Jul-20  Recovered  20977\n",
      "368  14-Jul-20   Deceased    587\n",
      "369  15-Jul-20  Confirmed  32607\n",
      "370  15-Jul-20  Recovered  20646\n",
      "371  15-Jul-20   Deceased    614\n",
      "372  16-Jul-20  Confirmed  35468\n",
      "373  16-Jul-20  Recovered  22867\n",
      "374  16-Jul-20   Deceased    680\n",
      "375  17-Jul-20  Confirmed  34820\n",
      "376  17-Jul-20  Recovered  17476\n",
      "377  17-Jul-20   Deceased    676\n",
      "378  18-Jul-20  Confirmed  37407\n",
      "379  18-Jul-20  Recovered  23552\n",
      "380  18-Jul-20   Deceased    543\n",
      "\n",
      "[381 rows x 3 columns]\n"
     ]
    }
   ],
   "source": [
    "# Q10 - Create a new column 'total'. Values in this column is supposed to contain the sum of corresponding row.\n",
    "\n",
    "data['total'] = data.sum(axis=1)\n",
    "print(data[['date','status','total']])"
   ]
  },
  {
   "cell_type": "code",
   "execution_count": 22,
   "metadata": {},
   "outputs": [
    {
     "name": "stdout",
     "output_type": "stream",
     "text": [
      "                date  an  ap  ar  as  br  ch  ct  dd  dl  ...  rj  sk  tg  tn  \\\n",
      "status                                                    ...                   \n",
      "Confirmed  14-Mar-20   0   1   0   0   0   0   0   0   7  ...   3   0   1   1   \n",
      "Deceased   14-Mar-20   0   0   0   0   0   0   0   0   1  ...   0   0   0   0   \n",
      "Recovered  14-Mar-20   0   0   0   0   0   0   0   0   1  ...   1   0   0   0   \n",
      "\n",
      "           tr  un  up  ut  wb  total  \n",
      "status                                \n",
      "Confirmed   0   0  12   0   0     81  \n",
      "Deceased    0   0   0   0   0      2  \n",
      "Recovered   0   0   4   0   0      9  \n",
      "\n",
      "[3 rows x 40 columns]\n"
     ]
    }
   ],
   "source": [
    "# Q11 - Group by on 'Status' column and display first.\n",
    "\n",
    "data_grouped = data.groupby('status')\n",
    "print(data_grouped.first())"
   ]
  },
  {
   "cell_type": "code",
   "execution_count": 23,
   "metadata": {},
   "outputs": [
    {
     "name": "stdout",
     "output_type": "stream",
     "text": [
      "           count        mean         std  min   25%    50%    75%    max\n",
      "status                                                                  \n",
      "Confirmed  127.0  224.409449  191.507858  0.0  76.5  210.0  304.5  866.0\n",
      "Deceased   127.0    4.354331    3.680768  0.0   1.0    4.0    7.0   17.0\n",
      "Recovered  127.0  166.488189  155.543383  0.0  17.0  126.0  276.0  656.0\n"
     ]
    }
   ],
   "source": [
    "# Q12 - Display the overall basic statistical analysis of Rajasthan for different status\n",
    "# (confirmed, recovered and deceased)\n",
    "\n",
    "print(data_grouped['rj'].describe())"
   ]
  },
  {
   "cell_type": "code",
   "execution_count": null,
   "metadata": {},
   "outputs": [],
   "source": []
  }
 ],
 "metadata": {
  "kernelspec": {
   "display_name": "Python 3",
   "language": "python",
   "name": "python3"
  },
  "language_info": {
   "codemirror_mode": {
    "name": "ipython",
    "version": 3
   },
   "file_extension": ".py",
   "mimetype": "text/x-python",
   "name": "python",
   "nbconvert_exporter": "python",
   "pygments_lexer": "ipython3",
   "version": "3.7.3"
  }
 },
 "nbformat": 4,
 "nbformat_minor": 4
}
